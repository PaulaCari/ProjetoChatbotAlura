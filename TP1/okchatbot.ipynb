{
  "nbformat": 4,
  "nbformat_minor": 0,
  "metadata": {
    "colab": {
      "provenance": [],
      "authorship_tag": "ABX9TyOt+t+cmwfHT6asf48Me56K",
      "include_colab_link": true
    },
    "kernelspec": {
      "name": "python3",
      "display_name": "Python 3"
    },
    "language_info": {
      "name": "python"
    }
  },
  "cells": [
    {
      "cell_type": "markdown",
      "metadata": {
        "id": "view-in-github",
        "colab_type": "text"
      },
      "source": [
        "<a href=\"https://colab.research.google.com/github/PaulaCari/ProjetoChatbotAlura/blob/main/TP1/okchatbot.ipynb\" target=\"_parent\"><img src=\"https://colab.research.google.com/assets/colab-badge.svg\" alt=\"Open In Colab\"/></a>"
      ]
    },
    {
      "cell_type": "markdown",
      "source": [
        "#<font color=yellow>\"No es lo que nos pasa lo que determina nuestra felicidad, sino nuestra respuesta a lo que nos pasa.\"♥♥♥"
      ],
      "metadata": {
        "id": "tTPW6TVMOY6u"
      }
    },
    {
      "cell_type": "code",
      "execution_count": null,
      "metadata": {
        "id": "O5BsaxBEbD6K"
      },
      "outputs": [],
      "source": [
        "#instalando  o SDK do google\n",
        "!pip install -q -U google-generativeai"
      ]
    },
    {
      "cell_type": "markdown",
      "source": [],
      "metadata": {
        "id": "Oqs0cLhqOY5A"
      }
    },
    {
      "cell_type": "markdown",
      "source": [
        "#**<font color=white>Importando Bibliotecas!![bibliotecas.png](data:image/png;base64,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)**"
      ],
      "metadata": {
        "id": "KMasmmO9zhkT"
      }
    },
    {
      "cell_type": "code",
      "source": [
        "#instalando  o SDK do google\n",
        "\n",
        "!pip install -q -U google-generativeai\n",
        "\n",
        "import textwrap\n",
        "from IPython.display import display\n",
        "from IPython.display import Markdown\n",
        "\n",
        "import google.generativeai as genai\n",
        "from google.colab import userdata\n",
        "api_key = userdata.get('Chave_Secreta')\n",
        "genai.configure(api_key=api_key)\n",
        "\n",
        "#formatar texto\n",
        "def to_markdown(text):\n",
        "  text = text.replace('•', '  *')\n",
        "  return Markdown(textwrap.indent(text, '> ', predicate=lambda _: True))\n",
        "\n",
        "  #Imprimindo o histórico\n",
        "for message in chat.history:\n",
        "  display(to_markdown(f'**{message.role}**: {message.parts[0].text}'))\n",
        "  print('----***----'*10)\n",
        "  '''\n",
        "# Definição de Constantes\n",
        "genai.configure(api_key=api_key)\n"
      ],
      "metadata": {
        "id": "JKFc3pqqbVil",
        "collapsed": true
      },
      "execution_count": null,
      "outputs": []
    },
    {
      "cell_type": "markdown",
      "source": [
        "![gemini.png](data:image/png;base64,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)"
      ],
      "metadata": {
        "id": "N9hMDUo9iKZL"
      }
    },
    {
      "cell_type": "code",
      "source": [
        "#model = genai.GenerativeModel('gemini-pro') #para saber qual modelo se vai usar\n",
        "for modelo in genai.list_models():\n",
        "  if 'generateContent' in modelo.supported_generation_methods:  #modelos que geran conteudo,  metodos  gerar conteudo\n",
        "    print(modelo.name)"
      ],
      "metadata": {
        "id": "htWf0gTLcE6D",
        "colab": {
          "base_uri": "https://localhost:8080/",
          "height": 156
        },
        "outputId": "3522bf5e-0d49-452d-cfdd-5d4a1e2257aa"
      },
      "execution_count": null,
      "outputs": [
        {
          "output_type": "stream",
          "name": "stdout",
          "text": [
            "models/gemini-1.0-pro\n",
            "models/gemini-1.0-pro-001\n",
            "models/gemini-1.0-pro-latest\n",
            "models/gemini-1.0-pro-vision-latest\n",
            "models/gemini-1.5-flash-latest\n",
            "models/gemini-1.5-pro-latest\n",
            "models/gemini-pro\n",
            "models/gemini-pro-vision\n"
          ]
        }
      ]
    },
    {
      "cell_type": "code",
      "source": [
        "from google.colab import drive\n",
        "drive.mount('/content/drive')"
      ],
      "metadata": {
        "id": "cjtF8QPYFtfC",
        "colab": {
          "base_uri": "https://localhost:8080/"
        },
        "outputId": "53224f85-a8d1-49d0-f4e8-488136ac2965",
        "collapsed": true
      },
      "execution_count": null,
      "outputs": [
        {
          "output_type": "stream",
          "name": "stdout",
          "text": [
            "Mounted at /content/drive\n"
          ]
        }
      ]
    },
    {
      "cell_type": "markdown",
      "source": [
        "#<font color=white>Configurações![config.png](data:image/png;base64,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)"
      ],
      "metadata": {
        "id": "63ZKcoZRi8MP"
      }
    },
    {
      "cell_type": "code",
      "source": [
        "print('Configuração do modelo Gemini')\n",
        "generation_config = {\n",
        "  'candidate_count': 1,      #indicando que apenas uma resposta\n",
        "  'temperature': 1,          #aleatoridade das palavras quero o modelo criativo\n",
        "  'top_p': 0.95,             #seleção de palavras, baseado em probabilidades, a soma das probabilidades de cada palavra\n",
        "  'top_k': 30,               #calibrar quantas pç posiveis quer utilizar\n",
        "  'max_output_tokens': 500,  #tamanho de resposta do modelo\n",
        "}"
      ],
      "metadata": {
        "id": "vlW1NVfhhDf4",
        "colab": {
          "base_uri": "https://localhost:8080/"
        },
        "outputId": "b9bcb893-6189-4987-f840-43803b72c076"
      },
      "execution_count": null,
      "outputs": [
        {
          "output_type": "stream",
          "name": "stdout",
          "text": [
            "Configuração do modelo Gemini\n"
          ]
        }
      ]
    },
    {
      "cell_type": "code",
      "source": [
        "print('configurações de segurança')\n",
        "safety_settings = [\n",
        "  {\n",
        "    \"category\": \"HARM_CATEGORY_HARASSMENT\",         #asedio\n",
        "    \"threshold\": \"BLOCK_MEDIUM_AND_ABOVE\"\n",
        "  },\n",
        "  {\n",
        "    \"category\": \"HARM_CATEGORY_HATE_SPEECH\",        #odio\n",
        "    \"threshold\": \"BLOCK_MEDIUM_AND_ABOVE\"\n",
        "  },\n",
        "  {\n",
        "    \"category\": \"HARM_CATEGORY_SEXUALLY_EXPLICIT\",  #sexual\n",
        "    \"threshold\": \"BLOCK_MEDIUM_AND_ABOVE\"\n",
        "  },\n",
        "  {\n",
        "    \"category\": \"HARM_CATEGORY_DANGEROUS_CONTENT\",  #perigoso\n",
        "    \"threshold\": \"BLOCK_MEDIUM_AND_ABOVE\"\n",
        "  },\n",
        "]"
      ],
      "metadata": {
        "id": "fpJnDuf5hFFY",
        "colab": {
          "base_uri": "https://localhost:8080/"
        },
        "outputId": "1279defe-ce04-4888-aab1-1d644f8b7b1e"
      },
      "execution_count": null,
      "outputs": [
        {
          "output_type": "stream",
          "name": "stdout",
          "text": [
            "configurações de segurança\n"
          ]
        }
      ]
    },
    {
      "cell_type": "markdown",
      "source": [
        "INICILIZANDO MODELO![iniciamodel.png](data:image/png;base64,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)"
      ],
      "metadata": {
        "id": "N491EGERkeoI"
      }
    },
    {
      "cell_type": "code",
      "source": [
        "model = genai.GenerativeModel(\n",
        "    model_name=\"gemini-1.0-pro\",\n",
        "    generation_config=generation_config,   #configurar o modelo\n",
        "    safety_settings=safety_settings)       #configurações de segurança"
      ],
      "metadata": {
        "id": "YQVVWlr_kslI"
      },
      "execution_count": null,
      "outputs": []
    },
    {
      "cell_type": "code",
      "source": [
        "#Geração de Conteúdo Inicial:\n",
        "resposta = model.generate_content('com IA Aprenda a superar a perda de um ente querido.')\n",
        "print(resposta.text)"
      ],
      "metadata": {
        "id": "iXeb2wD3cgiB",
        "colab": {
          "base_uri": "https://localhost:8080/",
          "height": 832
        },
        "outputId": "b2ed0080-9a1f-4109-b79c-98e78898c1bc"
      },
      "execution_count": null,
      "outputs": [
        {
          "output_type": "stream",
          "name": "stdout",
          "text": [
            "**Compreenda o Processo de Luto**\n",
            "\n",
            "* Entenda que o luto é um processo que leva tempo e não é linear.\n",
            "* Permita-se sentir todas as emoções, mesmo as dolorosas.\n",
            "* Saiba que não há uma linha do tempo definida para o luto.\n",
            "\n",
            "**Cuide de Si Mesmo**\n",
            "\n",
            "* Priorize a sua saúde física e mental.\n",
            "* Durma o suficiente, coma de forma saudável e exercite-se regularmente.\n",
            "* Procure atividades que tragam alegria e conforto.\n",
            "\n",
            "**Procure Apoio**\n",
            "\n",
            "* Fale com amigos, familiares ou um terapeuta sobre os seus sentimentos.\n",
            "* Junte-se a grupos de apoio ou fóruns online.\n",
            "* Lembre-se de que você não está sozinho.\n",
            "\n",
            "**Honre a Memória**\n",
            "\n",
            "* Crie um memorial, como plantar uma árvore ou criar um álbum de recortes.\n",
            "* Compartilhe histórias e memórias do seu ente querido com outras pessoas.\n",
            "* Realize atos de bondade em nome deles.\n",
            "\n",
            "**Foco no Presente**\n",
            "\n",
            "* Embora seja importante honrar o passado, também é crucial focar no presente.\n",
            "* Encontre propósito e significado em sua vida atual.\n",
            "* Defina metas e busque novas experiências.\n",
            "\n",
            "**Evite Mecanismos de Enfrentamento Não Saudáveis**\n",
            "\n",
            "* Não recorra a drogas, álcool ou comportamentos de autossabotagem.\n",
            "* Essas estratégias podem fornecer alívio temporário, mas podem piorar o luto a longo prazo.\n",
            "\n",
            "**Lembre-se de Que o Tempo Cura**\n",
            "\n",
            "* Com o tempo, a dor vai diminuir e as memórias do seu ente querido se tornarão mais doces.\n",
            "* Não se force a seguir em frente antes de estar pronto.\n",
            "* Cada pessoa experiencia o luto de forma diferente.\n",
            "\n",
            "**Recursos Adicionais**\n",
            "\n",
            "* **Linha Direta Nacional para Luto:** 1-800-274-0071\n",
            "* **National Hospice and Palliative Care Organization:** https://www.nhpco.org/\n",
            "* **GriefShare:** https://www.griefshare.org/\n",
            "* **Compassiate Friends:** https://www.compassionatefriends.org/\n"
          ]
        }
      ]
    },
    {
      "cell_type": "code",
      "source": [
        "print('Inicialização do Chat')\n",
        "chat = model.start_chat(history=[])   #començar chat e historico"
      ],
      "metadata": {
        "id": "ORyX4AV0dwk0",
        "colab": {
          "base_uri": "https://localhost:8080/"
        },
        "outputId": "9ef9bea6-e178-47f2-a2be-feb7c250ceec"
      },
      "execution_count": null,
      "outputs": [
        {
          "output_type": "stream",
          "name": "stdout",
          "text": [
            "Inicialização do Chat\n"
          ]
        }
      ]
    },
    {
      "cell_type": "markdown",
      "source": [
        "#**<font color=yellow>\"Un chatbot para te Guiar na Superação!**\n",
        "#**<font color=yellow>\"FLORECER A PÓS A PERDA!.\"♥♥♥**"
      ],
      "metadata": {
        "id": "0pcqaCMU9AlF"
      }
    },
    {
      "cell_type": "markdown",
      "source": [
        "![CHAT!](https://drive.google.com/uc?id=17Rce96qwMm_4oigZjY6jKQ4HxZJRrXAM)"
      ],
      "metadata": {
        "id": "F2KuO3q-pIgP"
      }
    },
    {
      "cell_type": "code",
      "source": [
        "nome = input('Digite seu nome: ').upper()\n",
        "print(f'Neste momento dificil, meu abraço fraterno e força para seguir em frente, {nome}!')"
      ],
      "metadata": {
        "colab": {
          "base_uri": "https://localhost:8080/"
        },
        "id": "-Uvk44Cu8UGw",
        "outputId": "f9b3258e-3033-405c-ddd5-2e55154d759f"
      },
      "execution_count": null,
      "outputs": [
        {
          "output_type": "stream",
          "name": "stdout",
          "text": [
            "Digite seu nome: Paula\n",
            "Neste momento dificil, meu abraço fraterno e força para seguir em frente, PAULA!\n"
          ]
        }
      ]
    },
    {
      "cell_type": "code",
      "source": [
        "# Solicita a primeira mensagem do usuário\n",
        "mensagem_usuario = input(\"Digite sua mensagem: \")\n",
        "\n",
        "# Criação do Loop\n",
        "while mensagem_usuario != 'Sair':\n",
        "    # Envia a mensagem do usuário para o chatbot\n",
        "    resposta = chat.send_message(mensagem_usuario)\n",
        "\n",
        "    # Imprime a resposta do chatbot\n",
        "    print('ChatBot: ', resposta.text,'\\n')\n",
        "\n",
        "    # Solicita uma nova mensagem do usuário\n",
        "    mensagem_usuario = input(\"Digite sua mensagem: \")\n",
        "\n",
        "# Mensagem de despedida quando o usuário digita 'Sair'\n",
        "print(\"Obrigado por usar o chatbot! Até a próxima!\")\n",
        "\n"
      ],
      "metadata": {
        "id": "wGNJfjmsn5zw"
      },
      "execution_count": null,
      "outputs": []
    }
  ]
}